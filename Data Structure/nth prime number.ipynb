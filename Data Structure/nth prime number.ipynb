{
 "cells": [
  {
   "cell_type": "code",
   "execution_count": 1,
   "metadata": {},
   "outputs": [
    {
     "name": "stdout",
     "output_type": "stream",
     "text": [
      "1\n",
      "2\n",
      "3\n",
      "4\n",
      "5\n"
     ]
    }
   ],
   "source": [
    "for x in range(1,6):\n",
    "    print(x)"
   ]
  },
  {
   "cell_type": "code",
   "execution_count": 3,
   "metadata": {},
   "outputs": [
    {
     "name": "stdout",
     "output_type": "stream",
     "text": [
      "Enter : 2\n",
      "2 th Prime Number is : 3\n"
     ]
    }
   ],
   "source": [
    "n = int(input('Enter : '))\n",
    "prime_numbers = [2,3]\n",
    "i=3\n",
    "if(0<n<3):\n",
    "    print(n,'th Prime Number is :',prime_numbers[n-1])\n",
    "elif(n>2):\n",
    "    while (True):\n",
    "        i+=1\n",
    "        status = True\n",
    "        for j in range(2,int(i/2)+1):\n",
    "            if(i%j==0):\n",
    "                status = False\n",
    "                break\n",
    "        if(status==True):\n",
    "            prime_numbers.append(i)\n",
    "        if(len(prime_numbers)==n):\n",
    "            break\n",
    "    print(n,'th Prime Number is :', prime_numbers[n-1])\n",
    "else:\n",
    "    print('Please Enter A Valid Number')"
   ]
  },
  {
   "cell_type": "code",
   "execution_count": 6,
   "metadata": {},
   "outputs": [
    {
     "name": "stdout",
     "output_type": "stream",
     "text": [
      "Enter:6\n",
      "6th prime Number is: 13\n"
     ]
    }
   ],
   "source": [
    "n = int(input('Enter:'))\n",
    "prime_numbers = [2,3]\n",
    "i=3\n",
    "if(0<n<3):\n",
    "    print(f'{n}th prime number is {prime_numbers[n-1]}')\n",
    "elif(n>2):\n",
    "    while(True):\n",
    "        i+=1\n",
    "        status = True\n",
    "        for j in range(2,int(i/2)+1):\n",
    "            if(i%j == 0):\n",
    "                status = False \n",
    "                break\n",
    "        if(status==True):\n",
    "            prime_numbers.append(i)\n",
    "        if(len(prime_numbers)==n):\n",
    "            break\n",
    "    print(f'{n}th prime Number is: {prime_numbers[n-1]}')\n",
    "else:\n",
    "    print(\"Please enter a valid number\")"
   ]
  },
  {
   "cell_type": "code",
   "execution_count": null,
   "metadata": {},
   "outputs": [],
   "source": []
  }
 ],
 "metadata": {
  "kernelspec": {
   "display_name": "Python 3",
   "language": "python",
   "name": "python3"
  },
  "language_info": {
   "codemirror_mode": {
    "name": "ipython",
    "version": 3
   },
   "file_extension": ".py",
   "mimetype": "text/x-python",
   "name": "python",
   "nbconvert_exporter": "python",
   "pygments_lexer": "ipython3",
   "version": "3.6.1"
  }
 },
 "nbformat": 4,
 "nbformat_minor": 2
}
