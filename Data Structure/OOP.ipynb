{
 "cells": [
  {
   "cell_type": "code",
   "execution_count": 18,
   "metadata": {},
   "outputs": [],
   "source": [
    "class Car:\n",
    "    color = str()\n",
    "    no_of_wheels = int()\n",
    "    power = int()\n",
    "    price = float()\n",
    "    \n",
    "    def __init__(self,col,nw,pw,pr):\n",
    "        self.color = col\n",
    "        self.no_of_wheels = nw\n",
    "        self.power = pw\n",
    "        self.price = pr"
   ]
  },
  {
   "cell_type": "code",
   "execution_count": 19,
   "metadata": {},
   "outputs": [],
   "source": [
    "a = Car(\"green\",4,250,5999)"
   ]
  },
  {
   "cell_type": "code",
   "execution_count": 20,
   "metadata": {},
   "outputs": [],
   "source": [
    "a.color = \"blue\""
   ]
  },
  {
   "cell_type": "code",
   "execution_count": 25,
   "metadata": {},
   "outputs": [],
   "source": [
    "b = Car(col = \"blue\",nw=6, pr=10000,pw=600)"
   ]
  },
  {
   "cell_type": "code",
   "execution_count": 26,
   "metadata": {},
   "outputs": [
    {
     "data": {
      "text/plain": [
       "10000"
      ]
     },
     "execution_count": 26,
     "metadata": {},
     "output_type": "execute_result"
    }
   ],
   "source": [
    "b.price"
   ]
  },
  {
   "cell_type": "code",
   "execution_count": 27,
   "metadata": {},
   "outputs": [],
   "source": [
    "class Bank:\n",
    "    def __init__(self,n,a):\n",
    "        self.name = n\n",
    "        self.amount = a\n",
    "        print(f\"Dear {n}, Your account is created with amount {a}\")\n",
    "    \n",
    "    def deposite(self,a):\n",
    "        self.amount += a\n",
    "        print(f\"Thank you! Rs {a} is deposited to your account\")\n",
    "    \n",
    "    def withdraw(self,a):\n",
    "        if self.amount >= a:\n",
    "            self.amount -= a\n",
    "            print(f\"Rs {a} is withdrawn from your account\")\n",
    "        else:\n",
    "            print(\"You don not have sufficient balance\")"
   ]
  },
  {
   "cell_type": "code",
   "execution_count": 28,
   "metadata": {},
   "outputs": [
    {
     "name": "stdout",
     "output_type": "stream",
     "text": [
      "Dear sita, Your account is created with amount 10000\n"
     ]
    }
   ],
   "source": [
    "sita = Bank(\"sita\",10000)"
   ]
  },
  {
   "cell_type": "code",
   "execution_count": 29,
   "metadata": {},
   "outputs": [
    {
     "name": "stdout",
     "output_type": "stream",
     "text": [
      "Thank you! Rs10000 is deposited to your account\n"
     ]
    }
   ],
   "source": [
    "sita.deposite(10000)"
   ]
  },
  {
   "cell_type": "code",
   "execution_count": 30,
   "metadata": {},
   "outputs": [
    {
     "data": {
      "text/plain": [
       "20000"
      ]
     },
     "execution_count": 30,
     "metadata": {},
     "output_type": "execute_result"
    }
   ],
   "source": [
    "sita.amount"
   ]
  },
  {
   "cell_type": "code",
   "execution_count": 31,
   "metadata": {},
   "outputs": [
    {
     "name": "stdout",
     "output_type": "stream",
     "text": [
      "Rs 15000 is withdrawn from your account\n"
     ]
    }
   ],
   "source": [
    "sita.withdraw(15000)"
   ]
  },
  {
   "cell_type": "code",
   "execution_count": 32,
   "metadata": {},
   "outputs": [
    {
     "data": {
      "text/plain": [
       "5000"
      ]
     },
     "execution_count": 32,
     "metadata": {},
     "output_type": "execute_result"
    }
   ],
   "source": [
    "sita.amount"
   ]
  },
  {
   "cell_type": "code",
   "execution_count": 33,
   "metadata": {},
   "outputs": [
    {
     "name": "stdout",
     "output_type": "stream",
     "text": [
      "You don not have sufficient balance\n"
     ]
    }
   ],
   "source": [
    "sita.withdraw(6000)"
   ]
  },
  {
   "cell_type": "code",
   "execution_count": null,
   "metadata": {},
   "outputs": [],
   "source": []
  }
 ],
 "metadata": {
  "kernelspec": {
   "display_name": "Python 3",
   "language": "python",
   "name": "python3"
  },
  "language_info": {
   "codemirror_mode": {
    "name": "ipython",
    "version": 3
   },
   "file_extension": ".py",
   "mimetype": "text/x-python",
   "name": "python",
   "nbconvert_exporter": "python",
   "pygments_lexer": "ipython3",
   "version": "3.6.1"
  }
 },
 "nbformat": 4,
 "nbformat_minor": 2
}
