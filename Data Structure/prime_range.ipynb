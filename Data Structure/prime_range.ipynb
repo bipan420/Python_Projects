{
 "cells": [
  {
   "cell_type": "code",
   "execution_count": 11,
   "metadata": {},
   "outputs": [
    {
     "name": "stdout",
     "output_type": "stream",
     "text": [
      "Enter first number5\n",
      "Enter the next number15\n",
      "5\n",
      "7\n",
      "11\n",
      "13\n"
     ]
    }
   ],
   "source": [
    "num1 = int(input(\"Enter first number\"))\n",
    "num2 = int(input(\"Enter the next number\"))\n",
    "for i in range(num1,num2+1):\n",
    "    if i>1:\n",
    "        for j in range(2,i//2):\n",
    "            if i%j == 0:\n",
    "                break\n",
    "        else:\n",
    "            print(i)\n",
    "            \n",
    "     \n",
    "    "
   ]
  },
  {
   "cell_type": "code",
   "execution_count": null,
   "metadata": {},
   "outputs": [],
   "source": []
  }
 ],
 "metadata": {
  "kernelspec": {
   "display_name": "Python 3",
   "language": "python",
   "name": "python3"
  },
  "language_info": {
   "codemirror_mode": {
    "name": "ipython",
    "version": 3
   },
   "file_extension": ".py",
   "mimetype": "text/x-python",
   "name": "python",
   "nbconvert_exporter": "python",
   "pygments_lexer": "ipython3",
   "version": "3.6.1"
  }
 },
 "nbformat": 4,
 "nbformat_minor": 2
}
