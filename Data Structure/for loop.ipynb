{
 "cells": [
  {
   "cell_type": "code",
   "execution_count": 1,
   "metadata": {},
   "outputs": [],
   "source": [
    "a = \"Nepal\""
   ]
  },
  {
   "cell_type": "code",
   "execution_count": 2,
   "metadata": {},
   "outputs": [
    {
     "data": {
      "text/plain": [
       "'\\nfor temp in iterable_object:\\n    //statement\\n'"
      ]
     },
     "execution_count": 2,
     "metadata": {},
     "output_type": "execute_result"
    }
   ],
   "source": [
    "'''\n",
    "for temp in iterable_object:\n",
    "    //statement\n",
    "'''"
   ]
  },
  {
   "cell_type": "code",
   "execution_count": 7,
   "metadata": {},
   "outputs": [
    {
     "name": "stdout",
     "output_type": "stream",
     "text": [
      "N\n",
      "e\n",
      "p\n",
      "a\n",
      "l\n"
     ]
    }
   ],
   "source": [
    "for x in a:\n",
    "    print(x)"
   ]
  },
  {
   "cell_type": "code",
   "execution_count": 8,
   "metadata": {},
   "outputs": [],
   "source": [
    "number = [10,15,20]"
   ]
  },
  {
   "cell_type": "code",
   "execution_count": 9,
   "metadata": {},
   "outputs": [
    {
     "name": "stdout",
     "output_type": "stream",
     "text": [
      "10\n",
      "15\n",
      "20\n"
     ]
    }
   ],
   "source": [
    "for x in number:\n",
    "    print(x)"
   ]
  },
  {
   "cell_type": "code",
   "execution_count": 13,
   "metadata": {},
   "outputs": [
    {
     "name": "stdout",
     "output_type": "stream",
     "text": [
      "Nepal\n",
      "Nepal\n",
      "Nepal\n",
      "Nepal\n",
      "Nepal\n",
      "Nepal\n",
      "Nepal\n",
      "Nepal\n",
      "Nepal\n",
      "Nepal\n"
     ]
    }
   ],
   "source": [
    "for _ in range(10):\n",
    "    print(a)"
   ]
  },
  {
   "cell_type": "code",
   "execution_count": 14,
   "metadata": {},
   "outputs": [],
   "source": [
    "#write a program to ask any integer number and check if given number is prime or not"
   ]
  },
  {
   "cell_type": "code",
   "execution_count": 23,
   "metadata": {},
   "outputs": [
    {
     "name": "stdout",
     "output_type": "stream",
     "text": [
      "enter any number13\n",
      "given number is prime\n"
     ]
    }
   ],
   "source": [
    "n = int(input(\"enter any number\"))\n",
    "c = 0\n",
    "for i in range(1,n+1):\n",
    "    if n%i == 0:\n",
    "       c=c+1\n",
    "if c==2:\n",
    "    print(\"given number is prime\")\n",
    "else:\n",
    "    print(\"given number is not prime\")"
   ]
  },
  {
   "cell_type": "code",
   "execution_count": 27,
   "metadata": {},
   "outputs": [
    {
     "name": "stdout",
     "output_type": "stream",
     "text": [
      "enter any number13\n",
      "True\n"
     ]
    }
   ],
   "source": [
    "n= int(input(\"enter any number\"))\n",
    "isPrime = True\n",
    "for i in range(2,n//2):\n",
    "    if n%i ==0:\n",
    "        isPrime = False\n",
    "        break\n",
    "print(isPrime)"
   ]
  },
  {
   "cell_type": "code",
   "execution_count": null,
   "metadata": {},
   "outputs": [],
   "source": [
    "num1 = int(input(\"Enter first number\"))\n",
    "num2 = int(input(\"Enter the next number\"))\n",
    "for i in range(num1+1,num2):\n",
    "    for j in range(num1,num2):\n",
    "        if i%j == 0:\n",
    "            continue;\n",
    "        else: \n",
    "            print(i)"
   ]
  },
  {
   "cell_type": "code",
   "execution_count": null,
   "metadata": {},
   "outputs": [],
   "source": []
  },
  {
   "cell_type": "markdown",
   "metadata": {},
   "source": [
    "num1 = int(input(\"Enter first number\"))\n",
    "num2 = int(input(\"Enter the next number\"))\n",
    "for i in range(num1+1,num2):\n",
    "    for j in range(num1,num2):\n",
    "        if i%j == 0:\n",
    "            continue;\n",
    "        else: \n",
    "            print(i)"
   ]
  },
  {
   "cell_type": "code",
   "execution_count": null,
   "metadata": {},
   "outputs": [],
   "source": [
    "num1 = int(input(\"Enter first number\"))\n",
    "num2 = int(input(\"Enter the next number\"))\n",
    "for i in range(num1+1,num2):\n",
    "    for j in range(num1,num2):\n",
    "        if i%j == 0:\n",
    "            continue;\n",
    "        else: \n",
    "            print(i)"
   ]
  },
  {
   "cell_type": "code",
   "execution_count": null,
   "metadata": {},
   "outputs": [],
   "source": []
  }
 ],
 "metadata": {
  "kernelspec": {
   "display_name": "Python 3",
   "language": "python",
   "name": "python3"
  },
  "language_info": {
   "codemirror_mode": {
    "name": "ipython",
    "version": 3
   },
   "file_extension": ".py",
   "mimetype": "text/x-python",
   "name": "python",
   "nbconvert_exporter": "python",
   "pygments_lexer": "ipython3",
   "version": "3.6.1"
  }
 },
 "nbformat": 4,
 "nbformat_minor": 2
}
